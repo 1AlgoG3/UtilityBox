{
 "cells": [
  {
   "cell_type": "code",
   "execution_count": null,
   "id": "1e21f1e5-7279-4446-8c98-03d5b3bd4e7c",
   "metadata": {
    "tags": []
   },
   "outputs": [],
   "source": [
    "import os\n",
    "curr_dir = os.getcwd()\n",
    "dir_1AlgoG3 = '/workspace/1AlgoG3'\n",
    "code_repo_dir = 'code_repo/'\n",
    "\n",
    "os.chdir(dir_1AlgoG3)\n",
    "os.chdir(code_repo_dir)\n",
    "\n",
    "\n",
    "import utils.image_utils as iu\n",
    "import pma.utils as pu\n",
    "import utils.utils as u\n",
    "import s3.s3 as s3\n",
    "import compath.tissue_utils as tu\n",
    "from standard_libraries import *\n",
    "\n",
    "import yaml\n",
    "import shutil\n",
    "import random\n",
    "from tifffile import imread, imsave\n",
    "import warnings\n",
    "\n",
    "#from stardist_utils.utils import * \n",
    "os.chdir(dir_1AlgoG3)\n",
    "os.chdir(curr_dir)\n",
    "os.environ[\"CUDA_VISIBLE_DEVICES\"] = \"1\""
   ]
  },
  {
   "cell_type": "code",
   "execution_count": null,
   "id": "17ae820a-dc6d-482b-9273-7620dfcdf3ec",
   "metadata": {
    "tags": []
   },
   "outputs": [],
   "source": [
    "def load_yaml(file_path):\n",
    "    with open(file_path, 'r') as file:\n",
    "        try:\n",
    "            yaml_data = yaml.safe_load(file)\n",
    "            return yaml_data\n",
    "        except yaml.YAMLError as e:\n",
    "            print(f\"Error reading YAML file: {e}\")\n",
    "            return None"
   ]
  },
  {
   "cell_type": "code",
   "execution_count": null,
   "id": "22174b9d-09cc-4810-a78e-3ce845be79b0",
   "metadata": {
    "tags": []
   },
   "outputs": [],
   "source": [
    "import torch.nn.functional as F\n",
    "import torch\n",
    "import torch.nn as nn\n",
    "from torch.utils.data import DataLoader\n",
    "from torchvision import transforms\n",
    "from torch import Tensor\n",
    "import segmentation_models_pytorch as smp"
   ]
  },
  {
   "cell_type": "code",
   "execution_count": null,
   "id": "d7851dcc-bc94-4fa2-b73e-13636764f914",
   "metadata": {
    "tags": []
   },
   "outputs": [],
   "source": [
    "%run /workspace/1AlgoG3/code_repo/smp_unet++/training_utils/vis_utils.py\n",
    "%run /workspace/1AlgoG3/code_repo/smp_unet++/training_utils/dataloading.py\n",
    "%run /workspace/1AlgoG3/code_repo/smp_unet++/training_utils/metrics.py\n",
    "%run /workspace/1AlgoG3/code_repo/smp_unet++/training_utils/validation_logic.py\n",
    "%run /workspace/1AlgoG3/code_repo/smp_unet++/training_utils/train_logic.py"
   ]
  },
  {
   "cell_type": "code",
   "execution_count": null,
   "id": "c45a7ec3-2745-4b04-a8b9-512119002c32",
   "metadata": {},
   "outputs": [],
   "source": [
    "def combine_train_val_metrics(epoch, train_metrics_per_epoch, val_metrics_per_epoch):\n",
    "    temp_dict = {}\n",
    "    temp_dict['epoch'] = epoch\n",
    "\n",
    "    exclude_cols = ['epoch', 'batch_idx']\n",
    "    for metric_df in [train_metrics_per_epoch, val_metrics_per_epoch]:\n",
    "        for col in metric_df.columns:\n",
    "            if col not in exclude_cols:\n",
    "                temp_dict[col] = metric_df[col].sum()\n",
    "\n",
    "    return(temp_dict)"
   ]
  },
  {
   "cell_type": "code",
   "execution_count": null,
   "id": "d248ecb9-af1d-41c1-88a6-e261cdf424a9",
   "metadata": {},
   "outputs": [],
   "source": [
    "from matplotlib.ticker import MaxNLocator\n",
    "def create_overall_plots(overall_metrics, overall_metrics_dir):\n",
    "    variables = [\n",
    "        'accuracy', 'dice_score', 'iou', 'bce_loss', 'dice_loss', 'loss'\n",
    "        ]\n",
    "\n",
    "    for var in variables:\n",
    "        plt.figure(figsize=(10, 6))\n",
    "    \n",
    "        plt.plot(overall_metrics['epoch'], overall_metrics[f'train_{var}'], label=f'Train {var}', marker='o')\n",
    "        plt.plot(overall_metrics['epoch'], overall_metrics[f'val_{var}'], label=f'Val {var}', marker='o')\n",
    "    \n",
    "        plt.title(f'{var.capitalize()} Over Epochs')\n",
    "        plt.xlabel('Epoch')\n",
    "        plt.ylabel(var.capitalize())\n",
    "        plt.gca().xaxis.set_major_locator(MaxNLocator(integer=True))\n",
    "        plt.legend()\n",
    "        plt.savefig(f'{overall_metrics_dir}/{var.capitalize()} Over Epochs.png')\n",
    "        plt.close()"
   ]
  },
  {
   "cell_type": "markdown",
   "id": "6c555037-af7c-484d-afcc-21ec1253b276",
   "metadata": {},
   "source": [
    "# Define Training Folder"
   ]
  },
  {
   "cell_type": "code",
   "execution_count": null,
   "id": "a7815216-c964-4dcc-bf04-d2009e83ed7d",
   "metadata": {
    "tags": []
   },
   "outputs": [],
   "source": [
    "train_config = load_yaml('train_config.yaml')"
   ]
  },
  {
   "cell_type": "code",
   "execution_count": null,
   "id": "ab4f06cb-d2e9-4737-8a76-5b87f671035c",
   "metadata": {},
   "outputs": [],
   "source": [
    "print(f\"Training Root: {train_config['training_root']}\\nRun Name: {train_config['run_name']}\\n-----------------\")\n",
    "change_run_name = input(f\"\\nWant to change run_name? (0 -No, 1-Yes)\")\n",
    "if bool(int(change_run_name)):\n",
    "   train_config['run_name'] = input(\"Input new run_name\") "
   ]
  },
  {
   "cell_type": "code",
   "execution_count": null,
   "id": "f47bf49f-d694-43c1-886c-93d453b602db",
   "metadata": {
    "tags": []
   },
   "outputs": [],
   "source": [
    "input_image_shape = train_config['input_image_shape']\n",
    "training_root = f\"{train_config['training_root']}/{train_config['run_name']}\"\n",
    "data_root = train_config['data_root']\n",
    "model_dir = f\"{training_root}/models\"\n",
    "val_images_dir = f\"{training_root}/val_images\"\n",
    "metrics_dir = f\"{training_root}/metrics\"\n",
    "train_images_dir = f\"{training_root}/train_images\"\n",
    "overall_metrics_dir = f'{training_root}/overall_metrics'\n",
    "\n",
    "u.create_folder(training_root)\n",
    "u.create_folder(model_dir)\n",
    "u.create_folder(val_images_dir)\n",
    "u.create_folder(metrics_dir)\n",
    "u.create_folder(train_images_dir)\n",
    "u.create_folder(overall_metrics_dir)"
   ]
  },
  {
   "cell_type": "code",
   "execution_count": null,
   "id": "61850f76-5ff6-46f3-bc52-cb240a2e317f",
   "metadata": {
    "tags": []
   },
   "outputs": [],
   "source": [
    "rem_dir = input(f\"Want to remove training root? (0 -No, 1-Yes)\")\n",
    "if bool(int(rem_dir)):\n",
    "    shutil.rmtree(training_root)\n",
    "    print('train root removed')"
   ]
  },
  {
   "cell_type": "code",
   "execution_count": null,
   "id": "a5d790ae-ac87-431b-bd27-04816729434c",
   "metadata": {
    "tags": []
   },
   "outputs": [],
   "source": [
    "use_cuda = True\n",
    "device = torch.device(\"cuda\" if torch.cuda.is_available() else \"cpu\") if use_cuda else \"cpu\"\n",
    "print(f'Runing on: {device} | GPU available: {torch.cuda.is_available()}')\n",
    "\n",
    "if device.type == 'cuda':\n",
    "    num_gpus = torch.cuda.device_count()\n",
    "    if num_gpus >1:\n",
    "        print(f\"{num_gpus} GPU's Available\")\n",
    "    else:\n",
    "        print(f\"{num_gpus} GPU's Available\")"
   ]
  },
  {
   "cell_type": "code",
   "execution_count": null,
   "id": "afa00a04-667e-4ace-85fe-fb974bb15f89",
   "metadata": {
    "tags": []
   },
   "outputs": [],
   "source": [
    "#dist_df = pd.read_csv(f'{data_root}/train_data_class_dist.csv')\n",
    "\n",
    "x_train_dir = f\"{data_root}/train_images\"\n",
    "y_train_dir = f\"{data_root}/train_masks\"\n",
    "\n",
    "x_valid_dir = f\"{data_root}/val_images\"\n",
    "y_valid_dir = f\"{data_root}/val_masks\""
   ]
  },
  {
   "cell_type": "markdown",
   "id": "084502bf-ceee-435f-94cf-870e817bd838",
   "metadata": {
    "tags": []
   },
   "source": [
    "# Check Loaders"
   ]
  },
  {
   "cell_type": "code",
   "execution_count": null,
   "id": "4707996f-1e25-4323-8c32-b3f08c8b71d8",
   "metadata": {
    "tags": []
   },
   "outputs": [],
   "source": [
    "u.start_timer()\n",
    "train_dataset = CustomDataset(x_train_dir, y_train_dir, augmentation=get_training_augmentation(input_image_shape))\n",
    "valid_dataset = CustomDataset(x_valid_dir, y_valid_dir)\n",
    "\n",
    "train_loader = DataLoader(train_dataset, batch_size=16, shuffle=True)\n",
    "valid_loader = DataLoader(valid_dataset, batch_size=32, shuffle=False)\n",
    "u.stop_timer()"
   ]
  },
  {
   "cell_type": "code",
   "execution_count": null,
   "id": "e12c217c-9020-4d1d-8c39-7e431eecab18",
   "metadata": {
    "scrolled": true,
    "tags": []
   },
   "outputs": [],
   "source": [
    "train_loader = DataLoader(train_dataset, batch_size=2, shuffle=True)\n",
    "\n",
    "for batch in tqdm(train_loader, total = len(train_loader), desc = f'Batches'):   \n",
    "    images, true_masks = batch[0], batch[1]\n",
    "    for image_tensor, mask_tensor in zip(images, true_masks):\n",
    "        image_tensor = image_tensor.cpu().numpy().transpose((1, 2, 0))\n",
    "        print(torch.unique(mask_tensor))\n",
    "        iu.plot_image_series([image_tensor, mask_tensor.cpu().numpy()])\n",
    "        print('\\n')\n",
    "    #break"
   ]
  },
  {
   "cell_type": "markdown",
   "id": "a8fa76c6-7d80-492d-9252-78769c5d3f83",
   "metadata": {},
   "source": [
    "# Initialize Models"
   ]
  },
  {
   "cell_type": "code",
   "execution_count": null,
   "id": "f00bb4e6-71ec-4693-907b-70c326263f6d",
   "metadata": {
    "tags": []
   },
   "outputs": [],
   "source": [
    "ENCODER = \"resnet50\"\n",
    "ENCODER_WEIGHTS = 'imagenet'\n",
    "n_classes = 1\n",
    "DEVICE = 'cuda'\n",
    "\n",
    "model = smp.UnetPlusPlus(\n",
    "    encoder_name=ENCODER,        \n",
    "    encoder_weights=ENCODER_WEIGHTS,\n",
    "    in_channels=3,\n",
    "    classes=n_classes\n",
    ")\n",
    "\n",
    "model.to(device);\n",
    "if num_gpus >1:\n",
    "    model = nn.DataParallel(model)"
   ]
  },
  {
   "cell_type": "code",
   "execution_count": null,
   "id": "29e8bb90-d8c6-4a93-b2e6-3a178cfc3fa0",
   "metadata": {
    "tags": []
   },
   "outputs": [],
   "source": [
    "epochs = 10\n",
    "gradient_clipping = float(train_config['gradient_clipping'])\n",
    "weight_decay = float(train_config['weight_decay'])\n",
    "learning_rate = float(train_config['learning_rate'])\n",
    "amp = train_config['amp']"
   ]
  },
  {
   "cell_type": "code",
   "execution_count": null,
   "id": "7669d074-27de-48af-90d1-7f7df86462fb",
   "metadata": {
    "tags": []
   },
   "outputs": [],
   "source": [
    "grad_scaler = torch.cuda.amp.GradScaler(enabled=amp)\n",
    "optimizer = torch.optim.Adam(model.parameters(), lr=learning_rate, weight_decay=weight_decay)\n",
    "optimizer.zero_grad()\n",
    "scheduler = torch.optim.lr_scheduler.ReduceLROnPlateau(optimizer, 'max', patience=5)  # goal: minimize validation loss\n",
    "\n",
    "print(f\"Epochs: {epochs}\")"
   ]
  },
  {
   "cell_type": "code",
   "execution_count": null,
   "id": "c15ab68c-576a-4bd7-a110-2c69368f091d",
   "metadata": {
    "tags": []
   },
   "outputs": [],
   "source": [
    "train_dataset = CustomDataset(x_train_dir, y_train_dir, trial_run = True, augmentation=get_training_augmentation(512))\n",
    "valid_dataset = CustomDataset(x_valid_dir, y_valid_dir, trial_run = True)\n",
    "train_loader = DataLoader(train_dataset, batch_size=16, shuffle=True)\n",
    "valid_loader = DataLoader(valid_dataset, batch_size=32, shuffle=False)"
   ]
  },
  {
   "cell_type": "code",
   "execution_count": null,
   "id": "3b0c140b-251a-4562-b16a-9daf9944d3ff",
   "metadata": {
    "tags": []
   },
   "outputs": [],
   "source": [
    "print(f\"Dataset Length: {len(train_dataset)}\\nTotal Batches: {len(train_loader)}\")"
   ]
  },
  {
   "cell_type": "code",
   "execution_count": null,
   "id": "0417510f-9f6e-4a55-8492-d0621019d37b",
   "metadata": {
    "tags": []
   },
   "outputs": [],
   "source": [
    "epoch_logs = []\n",
    "batch_logs = []\n",
    "overall_metrics_list = []\n",
    "\n",
    "max_val_iou = 0\n",
    "global_step = 0\n",
    "\n",
    "model.train()\n",
    "\n",
    "for epoch in tqdm(range(epochs),total=epochs, desc = \"Epochs\"):\n",
    "    epoch += 1\n",
    "    \n",
    "    model, optimizer, grad_scaler,learning_rate, train_metrics_per_epoch = train(model,\n",
    "                                                                                 optimizer,\n",
    "                                                                                 grad_scaler,\n",
    "                                                                                 learning_rate,\n",
    "                                                                                 device,\n",
    "                                                                                 train_loader,\n",
    "                                                                                 epoch,\n",
    "                                                                                 train_config\n",
    "                                                                                )\n",
    "    \n",
    "    train_metrics_per_epoch = pd.DataFrame(train_metrics_per_epoch)\n",
    "    \n",
    "    model.eval();\n",
    "    val_metrics_per_epoch = validate(model, device, valid_loader, epoch, train_config)\n",
    "    model.train();\n",
    "    \n",
    "    val_metrics_per_epoch = pd.DataFrame(val_metrics_per_epoch )\n",
    "    val_metrics_per_epoch.to_csv(f'{metrics_dir}/val_metrics_per_batch_for_epoch{epoch}.csv', index = False)\n",
    "    \n",
    "    save_avg_val_metrics(val_metrics_per_epoch, epoch, training_root)\n",
    "    \n",
    "    validation_iou = val_metrics_per_epoch['val_iou'].mean()\n",
    "    \n",
    "    scheduler.step(validation_iou)\n",
    "    \n",
    "    if epoch == 0:\n",
    "        max_val_iou = validation_iou\n",
    "    elif validation_iou> max_val_iou:\n",
    "        max_val_iou = validation_iou\n",
    "        torch.save(model, f'{model_dir}/max_val_score_model_epoch{epoch}_score({round(validation_iou,5)}).pth')\n",
    "        \n",
    "        \n",
    "    if (epoch)%2 == 0:\n",
    "        torch.save(model, f'{model_dir}/default_save_epoch{epoch}.pth')\n",
    "\n",
    "    temp_dict = combine_train_val_metrics(epoch, train_metrics_per_epoch, val_metrics_per_epoch)\n",
    "    overall_metrics_list.append(temp_dict)\n",
    "\n",
    "    overall_metrics = pd.DataFrame(overall_metrics_list)\n",
    "    overall_metrics.to_csv(f'{overall_metrics_dir}/overall_metrics.csv', index = False)\n",
    "\n",
    "    create_overall_plots(overall_metrics, overall_metrics_dir)"
   ]
  }
 ],
 "metadata": {
  "kernelspec": {
   "display_name": "Python 3 (ipykernel)",
   "language": "python",
   "name": "python3"
  },
  "language_info": {
   "codemirror_mode": {
    "name": "ipython",
    "version": 3
   },
   "file_extension": ".py",
   "mimetype": "text/x-python",
   "name": "python",
   "nbconvert_exporter": "python",
   "pygments_lexer": "ipython3",
   "version": "3.10.12"
  }
 },
 "nbformat": 4,
 "nbformat_minor": 5
}
